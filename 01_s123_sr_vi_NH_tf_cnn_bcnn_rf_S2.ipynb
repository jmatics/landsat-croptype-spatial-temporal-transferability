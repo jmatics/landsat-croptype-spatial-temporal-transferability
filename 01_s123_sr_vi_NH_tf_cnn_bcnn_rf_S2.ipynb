{
 "cells": [
  {
   "cell_type": "markdown",
   "id": "87f5735a-6ea5-4ea1-9ea4-aab78106c692",
   "metadata": {},
   "source": [
    "# S2 - Spatial transferbility"
   ]
  },
  {
   "cell_type": "markdown",
   "id": "861e7a1b-2ad3-40c9-b2a4-ba5c136c39b0",
   "metadata": {},
   "source": [
    "Transfer the trained model to predict data from Weser Ems in 2013, 2014, 2015, 2016, 2018"
   ]
  },
  {
   "cell_type": "markdown",
   "id": "e39c9913-b11d-46b9-9d7e-a19eaa9507e9",
   "metadata": {},
   "source": [
    "### 1.0 Loading libraries and setting path"
   ]
  },
  {
   "cell_type": "code",
   "execution_count": 1,
   "id": "a515fb1b-55e0-477f-9d88-101cdb3c729c",
   "metadata": {},
   "outputs": [],
   "source": [
    "import os\n",
    "import pandas as pd\n",
    "import numpy as np\n",
    "import matplotlib.pyplot as plt\n",
    "import random"
   ]
  },
  {
   "cell_type": "code",
   "execution_count": 2,
   "id": "415631a8-5ee0-43d0-8ff6-2f2aedef8262",
   "metadata": {},
   "outputs": [
    {
     "name": "stderr",
     "output_type": "stream",
     "text": [
      "2023-06-22 22:18:02.672408: I tensorflow/core/platform/cpu_feature_guard.cc:193] This TensorFlow binary is optimized with oneAPI Deep Neural Network Library (oneDNN) to use the following CPU instructions in performance-critical operations:  AVX2 FMA\n",
      "To enable them in other operations, rebuild TensorFlow with the appropriate compiler flags.\n",
      "2023-06-22 22:18:03.675668: W tensorflow/compiler/xla/stream_executor/platform/default/dso_loader.cc:64] Could not load dynamic library 'libnvinfer.so.7'; dlerror: libnvinfer.so.7: cannot open shared object file: No such file or directory; LD_LIBRARY_PATH: :/usr/local/cuda-11.2/lib64:/usr/local/cuda-11.2/extras/CUPTI/lib64\n",
      "2023-06-22 22:18:03.675794: W tensorflow/compiler/xla/stream_executor/platform/default/dso_loader.cc:64] Could not load dynamic library 'libnvinfer_plugin.so.7'; dlerror: libnvinfer_plugin.so.7: cannot open shared object file: No such file or directory; LD_LIBRARY_PATH: :/usr/local/cuda-11.2/lib64:/usr/local/cuda-11.2/extras/CUPTI/lib64\n",
      "2023-06-22 22:18:03.675801: W tensorflow/compiler/tf2tensorrt/utils/py_utils.cc:38] TF-TRT Warning: Cannot dlopen some TensorRT libraries. If you would like to use Nvidia GPU with TensorRT, please make sure the missing libraries mentioned above are installed properly.\n"
     ]
    }
   ],
   "source": [
    "import tensorflow as tf\n",
    "import tensorflow_probability as tfp\n",
    "import seaborn as sns\n",
    "\n",
    "from tensorflow.keras import Model, Sequential\n",
    "from tensorflow.keras.layers import InputLayer, Input, Conv2D, MaxPool2D, BatchNormalization, Flatten, Dense, Dropout, MaxPooling2D\n",
    "from tensorflow.keras.optimizers import SGD\n",
    "from tensorflow.keras.losses import CategoricalCrossentropy\n",
    "\n",
    "from sklearn.preprocessing import MinMaxScaler, StandardScaler\n",
    "\n",
    "from sklearn.metrics import confusion_matrix, accuracy_score, f1_score\n",
    "\n",
    "from sklearn.metrics import classification_report\n",
    "\n",
    "from sklearn.ensemble import RandomForestClassifier\n",
    "import skopt\n",
    "\n",
    "from tensorflow.keras.models import load_model\n",
    "import joblib"
   ]
  },
  {
   "cell_type": "code",
   "execution_count": 3,
   "id": "b0489c4a-6468-41a8-9323-98bba8596b27",
   "metadata": {},
   "outputs": [],
   "source": [
    "os.chdir('/home/pc4dl/SYM2')"
   ]
  },
  {
   "cell_type": "code",
   "execution_count": 4,
   "id": "0f765a57-ec82-4674-aeec-4d2619df1adf",
   "metadata": {},
   "outputs": [
    {
     "name": "stdout",
     "output_type": "stream",
     "text": [
      "Tensorflow Version:  2.11.0\n",
      "Tensorflow Probability Version:  0.18.0\n"
     ]
    }
   ],
   "source": [
    "print(\"Tensorflow Version: \", tf. __version__) \n",
    "print(\"Tensorflow Probability Version: \", tfp.__version__)"
   ]
  },
  {
   "cell_type": "markdown",
   "id": "d815995b-4173-4b99-92fc-b3a50e7bdf3a",
   "metadata": {},
   "source": [
    "### 2.0 Define functions for reading, prepare and visualising data"
   ]
  },
  {
   "cell_type": "code",
   "execution_count": 5,
   "id": "00c5748f-363a-4c10-9009-ae24f0f756f9",
   "metadata": {},
   "outputs": [],
   "source": [
    "def preapre_df(df):\n",
    "    \"\"\"\n",
    "    This function read the dataframe and filter out the unwanted years and generate seperate\n",
    "    dataframes for a) only with SR bands, b) only with VIs, and c) both with SR bands & VIs.\n",
    "    \"\"\"\n",
    "    year_list = [*range(2010, 2019, 1)]\n",
    "    df_years = df[df['year'].isin(year_list)]\n",
    "    df_dropna = df_years.dropna()\n",
    "    \n",
    "    df_sr = df_dropna.iloc[:, [0, 47, 5,  \n",
    "                               7, 8, 9, 10, 11, 12, \n",
    "                               17, 18, 19, 20, 21, 22, \n",
    "                               27, 28, 29, 30, 31, 32, \n",
    "                               37, 38, 39, 40, 41, 42]]\n",
    "    \n",
    "    df_vi = df_dropna.iloc[:, [0, 47, 5,  \n",
    "                               13, 14, 15, 16, \n",
    "                               23, 24, 25, 26, \n",
    "                               33, 34, 35, 36, \n",
    "                               43, 44, 45, 46]]\n",
    "    df_sr_vi = df_dropna.iloc[:, [0, 47, 5,  \n",
    "                               7, 8, 9, 10, 11, 12, 13, 14, 15, 16, \n",
    "                               17, 18, 19, 20, 21, 22, 23, 24, 25, 26, \n",
    "                               27, 28, 29, 30, 31, 32, 33, 34, 35, 36, \n",
    "                               37, 38, 39, 40, 41, 42, 43, 44, 45, 46]]\n",
    "    \n",
    "    return df_sr, df_vi, df_sr_vi\n",
    "\n",
    "def s2_df(df):\n",
    "    \n",
    "    df2 = df.copy()\n",
    "    \n",
    "    non_test_years = [2010, 2011, 2012]\n",
    "    \n",
    "    df_y = df2[~df2['year'].isin(non_test_years)]\n",
    "    \n",
    "    return df_y\n",
    "\n",
    "\n",
    "def norm(df):\n",
    "    MIN = df.min(1)\n",
    "    MAX = df.max(1)\n",
    "    return df.sub(MIN, 0).div(MAX-MIN, 0)\n",
    "\n",
    "\n",
    "def s_df_np(df):\n",
    "    \"\"\"\n",
    "    This function convert dataframes to numpy arrays.\n",
    "    \"\"\"\n",
    "    \n",
    "    df_X = df.iloc[:, 3:43] # norm(df.iloc[:, 3:43])\n",
    "    np_X = df_X.to_numpy()\n",
    "    \n",
    "    np_X = np.transpose(np_X.reshape(np_X.shape[0], 4, 10), (0, 2, 1))\n",
    "    np_X = np.expand_dims(np_X, axis=3)\n",
    "    \n",
    "    np_Y = df.iloc[:, 2].to_numpy()\n",
    "    \n",
    "    return df_X, np_X, np_Y\n",
    "\n",
    "def cl_levels(npa):\n",
    "    \"\"\"\n",
    "    This function recreate generated label numpy arrays according to two different class levels.\n",
    "    CL1 is for 3 classes - 0: Other, 1: Maize, 2: Grasslands\n",
    "    CL2 is for 5 classes - 0: Other, 1: Maize, 2: Grasslands, 3: Summer crops, 4: Winter Crops\n",
    "    \"\"\"\n",
    "    cl2_np = npa.copy()\n",
    "    cl1_np = npa.copy()\n",
    "    \n",
    "    cl2_np[cl2_np == 'OT'] = 0\n",
    "    cl2_np[cl2_np == 'MZ'] = 1\n",
    "    cl2_np[cl2_np == 'PG'] = 2\n",
    "    cl2_np[cl2_np == 'SC'] = 3\n",
    "    cl2_np[cl2_np == 'WC'] = 4\n",
    "    cl2_np[cl2_np == 'TG'] = 2\n",
    "    \n",
    "    cl1_np[cl1_np == 'OT'] = 0\n",
    "    cl1_np[cl1_np == 'MZ'] = 1\n",
    "    cl1_np[cl1_np == 'PG'] = 2\n",
    "    cl1_np[cl1_np == 'SC'] = 0\n",
    "    cl1_np[cl1_np == 'WC'] = 0\n",
    "    cl1_np[cl1_np == 'TG'] = 2\n",
    "    \n",
    "    cl1_np = np.asarray(cl1_np).astype('float32')\n",
    "    cl2_np = np.asarray(cl2_np).astype('float32')\n",
    "    \n",
    "    return cl1_np, cl2_np\n",
    "\n",
    "def cl_print(cl_np):\n",
    "    \"\"\"\n",
    "    This function prints the frequency of each class.\n",
    "    \"\"\"\n",
    "    tst_u_cl, tst_u_frq = np.unique(cl_np, return_counts=True)\n",
    "    tst_u_cl_frq = zip(tst_u_cl, tst_u_frq)\n",
    "    for elem in tst_u_cl_frq:\n",
    "        print(elem[0], ' Occurs :', elem[1], ' times')\n",
    "    print('########################')"
   ]
  },
  {
   "cell_type": "code",
   "execution_count": 6,
   "id": "dedc310c-a4b3-44a0-8318-5392d81ce51c",
   "metadata": {},
   "outputs": [],
   "source": [
    "cl1_names={ 0: 'Other', 1: 'Maize', 2: 'Grasslands'}\n",
    "cl2_names={ 0: 'Other', 1: 'Maize', 2: 'Grasslands', 3: 'Summer Crops', 4: 'Winter Crops'}"
   ]
  },
  {
   "cell_type": "code",
   "execution_count": 7,
   "id": "656afdef-eb84-4aa8-98f7-ddb5885d4664",
   "metadata": {},
   "outputs": [],
   "source": [
    "def visualize_batch(data_X, data_Y1, data_Y2, cls1, cls2, tv=None):\n",
    "    rnd = random.sample(range(10, data_X.shape[0]), 25)\n",
    "    # initialize a figure\n",
    "    fig = plt.figure(figsize=(10, 10))\n",
    "    fig.suptitle(tv, fontsize=16)\n",
    "    # loop over the batch size\n",
    "    for i in range(25):\n",
    "        # create a subplot\n",
    "        ax = plt.subplot(5, 5, i + 1)\n",
    "        mat = data_X[rnd[i]]\n",
    "        # grab the label id and get the label from the classes list\n",
    "        idx_1 = data_Y1[rnd[i]]\n",
    "        idx_2 = data_Y2[rnd[i]]\n",
    "        label_1 = cls1[idx_1]\n",
    "        label_2 = cls2[idx_2]\n",
    "        label = \"CL1: \" + label_1 + \"\\nCL2: \" + label_2\n",
    "        # show the image along with the label\n",
    "        plt.imshow(mat, cmap='viridis')\n",
    "        plt.title(label)\n",
    "        plt.axis(\"off\")\n",
    "        # show the plot\n",
    "    plt.tight_layout()\n",
    "    plt.show()"
   ]
  },
  {
   "cell_type": "markdown",
   "id": "08dc7f2a-3726-4c55-95a2-b2d106266c49",
   "metadata": {},
   "source": [
    "## 3.0 Read data"
   ]
  },
  {
   "cell_type": "code",
   "execution_count": 8,
   "id": "929d1f4f-72ee-4462-8a40-f2fb357cb796",
   "metadata": {},
   "outputs": [],
   "source": [
    "# Read CSVs\n",
    "\n",
    "nh_l578 = pd.read_csv(r'./OriginalData_NH/L578_extract/NH_L578_all_norm.csv')\n",
    "we_l578 = pd.read_csv(r'./OriginalData_WE/L578_extract/WE_L578_all_norm.csv')\n",
    "\n",
    "year_list = [*range(2010, 2019, 1)]"
   ]
  },
  {
   "cell_type": "markdown",
   "id": "027095d8-4529-4156-a5b0-a8ebb02072ac",
   "metadata": {},
   "source": [
    "### 3.1 Prepare data"
   ]
  },
  {
   "cell_type": "code",
   "execution_count": 9,
   "id": "fde1ecab-b356-4f7e-9448-f36438ebca52",
   "metadata": {},
   "outputs": [
    {
     "name": "stdout",
     "output_type": "stream",
     "text": [
      "0.0  Occurs : 305490  times\n",
      "1.0  Occurs : 36395  times\n",
      "2.0  Occurs : 187907  times\n",
      "########################\n",
      "0.0  Occurs : 22997  times\n",
      "1.0  Occurs : 36395  times\n",
      "2.0  Occurs : 187907  times\n",
      "3.0  Occurs : 35414  times\n",
      "4.0  Occurs : 247079  times\n",
      "########################\n",
      "0.0  Occurs : 399177  times\n",
      "1.0  Occurs : 441576  times\n",
      "2.0  Occurs : 703976  times\n",
      "########################\n",
      "0.0  Occurs : 19990  times\n",
      "1.0  Occurs : 441576  times\n",
      "2.0  Occurs : 703976  times\n",
      "3.0  Occurs : 102446  times\n",
      "4.0  Occurs : 276741  times\n",
      "########################\n"
     ]
    }
   ],
   "source": [
    "# Prepare dataframes and generate seperate dataframes\n",
    "\n",
    "nh_l578_sr, nh_l578_vi, nh_l578_sr_vi = preapre_df(nh_l578)\n",
    "we_l578_sr, we_l578_vi, we_l578_sr_vi = preapre_df(we_l578)\n",
    "\n",
    "# 2.0 Data for testing in Scenario 1 (Model trained in Location A + Time T1 --> Test in Location A + Time T2)\n",
    "\n",
    "s2_nh_test_df = s2_df(nh_l578_sr_vi)\n",
    "s2_we_test_df = s2_df(we_l578_sr_vi)\n",
    "\n",
    "\n",
    "# Create necessary DF and NPs\n",
    "s2_nh_test_X_df, s2_nh_test_X_np, s2_nh_test_Y_np = s_df_np(s2_nh_test_df)\n",
    "s2_we_test_X_df, s2_we_test_X_np, s2_we_test_Y_np = s_df_np(s2_we_test_df)\n",
    "\n",
    "# Create two levels of Y\n",
    "s2_nh_test_Y_np_cl1, s2_nh_test_Y_np_cl2 = cl_levels(s2_nh_test_Y_np)\n",
    "s2_we_test_Y_np_cl1, s2_we_test_Y_np_cl2 = cl_levels(s2_we_test_Y_np)\n",
    "\n",
    "cl_print(s2_nh_test_Y_np_cl1)\n",
    "cl_print(s2_nh_test_Y_np_cl2)\n",
    "\n",
    "cl_print(s2_we_test_Y_np_cl1)\n",
    "cl_print(s2_we_test_Y_np_cl2)"
   ]
  },
  {
   "cell_type": "code",
   "execution_count": 10,
   "id": "9b90309f-38c4-4c38-b1ab-254099ac2d5a",
   "metadata": {},
   "outputs": [
    {
     "name": "stdout",
     "output_type": "stream",
     "text": [
      "Shape of the S2 testing dataset \n",
      " Train X: (1544729, 10, 4, 1)\n",
      "Shape of the S2 testing dataset \n",
      " Train Y (CL1): (1544729,)\n",
      "Shape of the S2 testing dataset \n",
      " Train Y (CL2): (1544729,)\n"
     ]
    }
   ],
   "source": [
    "# shape of the training and validation set\n",
    "print('Shape of the S2 testing dataset \\n Train X: ' + str(s2_we_test_X_np.shape))\n",
    "print('Shape of the S2 testing dataset \\n Train Y (CL1): ' + str(s2_we_test_Y_np_cl1.shape))\n",
    "print('Shape of the S2 testing dataset \\n Train Y (CL2): ' + str(s2_we_test_Y_np_cl2.shape))"
   ]
  },
  {
   "cell_type": "code",
   "execution_count": 11,
   "id": "668eb3eb-4abf-4961-8760-5edcc732ec80",
   "metadata": {},
   "outputs": [
    {
     "data": {
      "image/png": "[encoded data removed]",
      "text/plain": [
       "<Figure size 720x720 with 25 Axes>"
      ]
     },
     "metadata": {
      "needs_background": "light"
     },
     "output_type": "display_data"
    }
   ],
   "source": [
    "visualize_batch(s2_we_test_X_np, s2_we_test_Y_np_cl1, s2_we_test_Y_np_cl2, cl1_names, cl2_names, \"Test Data\")"
   ]
  },
  {
   "cell_type": "markdown",
   "id": "8788f63d-6994-4777-b149-a1dfdb918c6f",
   "metadata": {},
   "source": [
    "### 3.2 DI and AOA"
   ]
  },
  {
   "cell_type": "code",
   "execution_count": 12,
   "id": "2f5b5e50-40aa-4ab2-90bd-72200a1c112d",
   "metadata": {},
   "outputs": [],
   "source": [
    "from sklearn.neighbors import BallTree\n",
    "from scipy.spatial.distance import pdist, squareform\n",
    "def aoa(new_data, \n",
    "        training_data, \n",
    "        model=None, \n",
    "        thres=0.95,\n",
    "        fold_indices=None,\n",
    "        distance_metric='euclidean'\n",
    "       ):\n",
    "    \"\"\"\n",
    "    Area of Applicability (AOA) measure for spatial prediction models from\n",
    "    Meyer and Pebesma (2020). The AOA defines the area for which, on average, \n",
    "    the cross-validation error of the model applies, which is crucial for \n",
    "    cases where spatial predictions are used to inform decision-making.\n",
    "    \n",
    "    Parameters\n",
    "    ----------\n",
    "    new_data : GeoDataFrame\n",
    "        A GeoDataFrame containing unseen data to measure AOA for.\n",
    "    training_data : GeoDataFrame\n",
    "        A GeoDataFrame containing the features used for model training.\n",
    "    thres : default=0.95\n",
    "        Threshold used to identify predictive area of applicability.\n",
    "    fold_indices : iterable, default=None\n",
    "        iterable consisting of training indices that identify instances in the\n",
    "        folds.\n",
    "    distance_metric : string, default='euclidean'\n",
    "        Distance metric to calculate distances between new_data and training_data.\n",
    "        Defaults to euclidean for projected CRS, otherwise haversine for unprojected.\n",
    "    Returns\n",
    "    -------\n",
    "    DIs : array\n",
    "        Array of disimimilarity scores between training_data for new_data points.\n",
    "    masked_result : array\n",
    "        Binary mask that occludes points outside predictive area of applicability.\n",
    "    \"\"\"\n",
    "    \n",
    "    \n",
    "    if len(training_data) <= 1:\n",
    "        raise Exception('At least two training instances need to be specified.')\n",
    "                    \n",
    "    # Scale data \n",
    "    training_data = (training_data - np.mean(training_data)) / np.std(training_data)\n",
    "    new_data = (new_data - np.mean(new_data)) / np.std(new_data)\n",
    "\n",
    "    # Calculate nearest training instance to test data, return Euclidean distances\n",
    "    tree = BallTree(training_data, metric=distance_metric) \n",
    "    mindist, _ = tree.query(new_data, k=1, return_distance=True)\n",
    "\n",
    "    # Build matrix of pairwise distances \n",
    "    paired_distances = pdist(training_data)\n",
    "    train_dist = squareform(paired_distances)\n",
    "    np.fill_diagonal(train_dist, np.nan)\n",
    "    \n",
    "    # Remove data points that are within the same fold\n",
    "    if fold_indices:            \n",
    "        # Get number of training instances in each fold\n",
    "        instances_in_folds = [len(fold) for fold in fold_indices]\n",
    "        instance_fold_id = np.repeat(np.arange(0, len(fold_indices)), instances_in_folds)\n",
    "\n",
    "        # Create mapping between training instance and fold ID\n",
    "        fold_indices = np.concatenate(fold_indices)\n",
    "        folds = np.vstack((fold_indices, instance_fold_id)).T\n",
    "\n",
    "        # Mask training points in same fold for DI measure calculation\n",
    "        for i, row in enumerate(train_dist):\n",
    "            mask = folds[:,0] == folds[:,0][i]\n",
    "            train_dist[i, mask] = np.nan\n",
    "\n",
    "    # Scale distance to nearest training point by average distance across training data\n",
    "    train_dist_mean = np.nanmean(train_dist, axis=1)\n",
    "    train_dist_avgmean = np.mean(train_dist_mean)\n",
    "    mindist /= train_dist_avgmean    \n",
    "\n",
    "    # Define threshold for AOA\n",
    "    train_dist_min = np.nanmin(train_dist, axis=1)\n",
    "    aoa_train_stats = np.quantile(train_dist_min / train_dist_avgmean, \n",
    "                                    q = np.array([0.25, 0.5, 0.75, 0.9, 0.95, 0.99, 1]))\n",
    "    thres = np.quantile(train_dist_min / train_dist_avgmean, q = thres)\n",
    "    \n",
    "    # We choose the AOA as the area where the DI does not exceed the threshold\n",
    "    DIs = mindist.reshape(-1)\n",
    "    masked_result = np.repeat(1, len(mindist))\n",
    "    masked_result[DIs > thres] = 0\n",
    "\n",
    "    return DIs, masked_result, thres"
   ]
  },
  {
   "cell_type": "code",
   "execution_count": 13,
   "id": "c9c5ffaf-6ded-41f7-9525-4441f78b9fa1",
   "metadata": {},
   "outputs": [],
   "source": [
    "org_train_data = pd.read_csv(r'./OriginalData_NH/L578_extract/s_nh_train_df.csv')\n",
    "org_train_data = org_train_data.iloc[: , 1:]\n",
    "# org_train_data"
   ]
  },
  {
   "cell_type": "code",
   "execution_count": 14,
   "id": "55cdceab-16ff-4859-a8f4-158fab2b6439",
   "metadata": {},
   "outputs": [],
   "source": [
    "DI, Masked, thres = aoa(new_data=s2_we_test_X_df, \n",
    "        training_data=org_train_data, \n",
    "        model=None, \n",
    "        thres=0.95,\n",
    "        fold_indices=None,\n",
    "        distance_metric='euclidean'\n",
    "       )"
   ]
  },
  {
   "cell_type": "code",
   "execution_count": 15,
   "id": "ef1e6afc-cca2-4b17-82a5-e4fe1dc676b8",
   "metadata": {},
   "outputs": [
    {
     "data": {
      "text/plain": [
       "0.2888197652967731"
      ]
     },
     "execution_count": 15,
     "metadata": {},
     "output_type": "execute_result"
    }
   ],
   "source": [
    "thres"
   ]
  },
  {
   "cell_type": "code",
   "execution_count": 16,
   "id": "b17dc797-6ded-44f2-b5b3-db2edbd53465",
   "metadata": {},
   "outputs": [
    {
     "name": "stdout",
     "output_type": "stream",
     "text": [
      "[[      0  276634]\n",
      " [      1 1024842]]\n"
     ]
    }
   ],
   "source": [
    "unique, counts = np.unique(Masked, return_counts=True)\n",
    "print(np.asarray((unique, counts)).T)"
   ]
  },
  {
   "cell_type": "markdown",
   "id": "65d56b8b-e31e-4604-90c8-faac589952de",
   "metadata": {},
   "source": [
    "## 4.0 Load Models"
   ]
  },
  {
   "cell_type": "code",
   "execution_count": 12,
   "id": "1c91286e-072b-471a-8e3f-fa80e68cee4d",
   "metadata": {},
   "outputs": [
    {
     "name": "stderr",
     "output_type": "stream",
     "text": [
      "2023-06-22 22:19:17.773586: I tensorflow/compiler/xla/stream_executor/cuda/cuda_gpu_executor.cc:981] successful NUMA node read from SysFS had negative value (-1), but there must be at least one NUMA node, so returning NUMA node zero\n",
      "2023-06-22 22:19:17.774014: I tensorflow/compiler/xla/stream_executor/cuda/cuda_gpu_executor.cc:981] successful NUMA node read from SysFS had negative value (-1), but there must be at least one NUMA node, so returning NUMA node zero\n",
      "2023-06-22 22:19:17.796593: I tensorflow/compiler/xla/stream_executor/cuda/cuda_gpu_executor.cc:981] successful NUMA node read from SysFS had negative value (-1), but there must be at least one NUMA node, so returning NUMA node zero\n",
      "2023-06-22 22:19:17.797026: I tensorflow/compiler/xla/stream_executor/cuda/cuda_gpu_executor.cc:981] successful NUMA node read from SysFS had negative value (-1), but there must be at least one NUMA node, so returning NUMA node zero\n",
      "2023-06-22 22:19:17.797447: I tensorflow/compiler/xla/stream_executor/cuda/cuda_gpu_executor.cc:981] successful NUMA node read from SysFS had negative value (-1), but there must be at least one NUMA node, so returning NUMA node zero\n",
      "2023-06-22 22:19:17.797810: I tensorflow/compiler/xla/stream_executor/cuda/cuda_gpu_executor.cc:981] successful NUMA node read from SysFS had negative value (-1), but there must be at least one NUMA node, so returning NUMA node zero\n",
      "2023-06-22 22:19:17.798753: I tensorflow/core/platform/cpu_feature_guard.cc:193] This TensorFlow binary is optimized with oneAPI Deep Neural Network Library (oneDNN) to use the following CPU instructions in performance-critical operations:  AVX2 FMA\n",
      "To enable them in other operations, rebuild TensorFlow with the appropriate compiler flags.\n",
      "2023-06-22 22:19:17.953834: I tensorflow/compiler/xla/stream_executor/cuda/cuda_gpu_executor.cc:981] successful NUMA node read from SysFS had negative value (-1), but there must be at least one NUMA node, so returning NUMA node zero\n",
      "2023-06-22 22:19:17.954269: I tensorflow/compiler/xla/stream_executor/cuda/cuda_gpu_executor.cc:981] successful NUMA node read from SysFS had negative value (-1), but there must be at least one NUMA node, so returning NUMA node zero\n",
      "2023-06-22 22:19:17.954625: I tensorflow/compiler/xla/stream_executor/cuda/cuda_gpu_executor.cc:981] successful NUMA node read from SysFS had negative value (-1), but there must be at least one NUMA node, so returning NUMA node zero\n",
      "2023-06-22 22:19:17.954961: I tensorflow/compiler/xla/stream_executor/cuda/cuda_gpu_executor.cc:981] successful NUMA node read from SysFS had negative value (-1), but there must be at least one NUMA node, so returning NUMA node zero\n",
      "2023-06-22 22:19:17.955297: I tensorflow/compiler/xla/stream_executor/cuda/cuda_gpu_executor.cc:981] successful NUMA node read from SysFS had negative value (-1), but there must be at least one NUMA node, so returning NUMA node zero\n",
      "2023-06-22 22:19:17.955631: I tensorflow/compiler/xla/stream_executor/cuda/cuda_gpu_executor.cc:981] successful NUMA node read from SysFS had negative value (-1), but there must be at least one NUMA node, so returning NUMA node zero\n",
      "2023-06-22 22:19:18.885715: I tensorflow/compiler/xla/stream_executor/cuda/cuda_gpu_executor.cc:981] successful NUMA node read from SysFS had negative value (-1), but there must be at least one NUMA node, so returning NUMA node zero\n",
      "2023-06-22 22:19:18.886193: I tensorflow/compiler/xla/stream_executor/cuda/cuda_gpu_executor.cc:981] successful NUMA node read from SysFS had negative value (-1), but there must be at least one NUMA node, so returning NUMA node zero\n",
      "2023-06-22 22:19:18.893716: I tensorflow/compiler/xla/stream_executor/cuda/cuda_gpu_executor.cc:981] successful NUMA node read from SysFS had negative value (-1), but there must be at least one NUMA node, so returning NUMA node zero\n",
      "2023-06-22 22:19:18.894245: I tensorflow/compiler/xla/stream_executor/cuda/cuda_gpu_executor.cc:981] successful NUMA node read from SysFS had negative value (-1), but there must be at least one NUMA node, so returning NUMA node zero\n",
      "2023-06-22 22:19:18.894598: I tensorflow/compiler/xla/stream_executor/cuda/cuda_gpu_executor.cc:981] successful NUMA node read from SysFS had negative value (-1), but there must be at least one NUMA node, so returning NUMA node zero\n",
      "2023-06-22 22:19:18.895092: I tensorflow/core/common_runtime/gpu/gpu_device.cc:1613] Created device /job:localhost/replica:0/task:0/device:GPU:0 with 6597 MB memory:  -> device: 0, name: NVIDIA GeForce RTX 2060 SUPER, pci bus id: 0000:01:00.0, compute capability: 7.5\n",
      "2023-06-22 22:19:18.895565: I tensorflow/compiler/xla/stream_executor/cuda/cuda_gpu_executor.cc:981] successful NUMA node read from SysFS had negative value (-1), but there must be at least one NUMA node, so returning NUMA node zero\n",
      "2023-06-22 22:19:18.895876: I tensorflow/core/common_runtime/gpu/gpu_device.cc:1613] Created device /job:localhost/replica:0/task:0/device:GPU:1 with 6660 MB memory:  -> device: 1, name: NVIDIA GeForce RTX 2060 SUPER, pci bus id: 0000:02:00.0, compute capability: 7.5\n"
     ]
    }
   ],
   "source": [
    "# CNN\n",
    "deterministic_model_cl1 = load_model('./Out/CNN_Models/dcnn_model_cl1_trained.hdf5', compile=False)\n",
    "deterministic_model_cl2 = load_model('./Out/CNN_Models/dcnn_model_cl2_trained.hdf5', compile=False)\n",
    "\n",
    "# RF\n",
    "rf_model_cl1 = joblib.load(\"./Out/RF_Models/rf_model_cl1_trained.joblib\")\n",
    "rf_model_cl2 = joblib.load(\"./Out/RF_Models/rf_model_cl2_trained.joblib\")"
   ]
  },
  {
   "cell_type": "markdown",
   "id": "80cb9112-1a31-4a0d-bb9d-8837790367d0",
   "metadata": {},
   "source": [
    "## 5.0 Test Models"
   ]
  },
  {
   "cell_type": "markdown",
   "id": "081f4e37-f285-40b6-baf0-0c9731032036",
   "metadata": {},
   "source": [
    "### 5.1 CNN model test"
   ]
  },
  {
   "cell_type": "code",
   "execution_count": 13,
   "id": "571fd46f-3f2b-4538-936a-727a58a570bd",
   "metadata": {},
   "outputs": [
    {
     "name": "stderr",
     "output_type": "stream",
     "text": [
      "2023-06-22 22:19:31.982925: I tensorflow/compiler/xla/stream_executor/cuda/cuda_dnn.cc:428] Loaded cuDNN version 8100\n"
     ]
    },
    {
     "name": "stdout",
     "output_type": "stream",
     "text": [
      "48273/48273 [==============================] - 61s 1ms/step\n",
      "48273/48273 [==============================] - 60s 1ms/step\n",
      "=================================\n",
      "\n",
      "S2 CNN NH Model CL1 Test\n",
      "[[299411  15400  84366]\n",
      " [ 41789 363836  35951]\n",
      " [ 11994   1934 690048]]\n",
      "Test accuracy for S2 CNN NH model for CL1: 0.876\n",
      "Test MacroF1 for S2 CNN NH model for CL1: 0.864\n",
      "=================================\n",
      "\n",
      "S2 CNN NH Model CL2 Test\n",
      "[[  4283   2547  11490   1254    416]\n",
      " [ 13379 382456  37295   8057    389]\n",
      " [  8663   2677 691235    817    584]\n",
      " [ 12121  19610  33297  35113   2305]\n",
      " [ 27708   4086  66318  13140 165489]]\n",
      "Test accuracy for S2 CNN NH model for CL2: 0.828\n",
      "Test MacroF1 for S2 CNN NH model for CL2: 0.614\n"
     ]
    }
   ],
   "source": [
    "# Check traget system accuracy\n",
    "\n",
    "cnn_model_s2_we_test_cl1_y_pred = deterministic_model_cl1.predict(s2_we_test_X_np)\n",
    "cnn_model_s2_we_test_cl2_y_pred = deterministic_model_cl2.predict(s2_we_test_X_np)\n",
    "# Convert predictions classes to one hot vectors\n",
    "cnn_model_s2_we_test_cl1_y_pred_classes = np.argmax(cnn_model_s2_we_test_cl1_y_pred, axis = 1) \n",
    "cnn_model_s2_we_test_cl2_y_pred_classes = np.argmax(cnn_model_s2_we_test_cl2_y_pred, axis = 1)\n",
    "# Convert test data to one hot vectors\n",
    "cnn_model_s2_we_test_cl1_y_true = s2_we_test_Y_np_cl1\n",
    "cnn_model_s2_we_test_cl2_y_true = s2_we_test_Y_np_cl2\n",
    "\n",
    "# CM\n",
    "cnn_model_s2_we_test_cl1_cm = confusion_matrix(cnn_model_s2_we_test_cl1_y_true, cnn_model_s2_we_test_cl1_y_pred_classes)\n",
    "cnn_model_s2_we_test_cl2_cm = confusion_matrix(cnn_model_s2_we_test_cl2_y_true, cnn_model_s2_we_test_cl2_y_pred_classes)\n",
    "\n",
    "# Accuracy\n",
    "cnn_model_s2_we_test_cl1_acc = accuracy_score(y_true=cnn_model_s2_we_test_cl1_y_true, y_pred=cnn_model_s2_we_test_cl1_y_pred_classes, normalize=True)\n",
    "cnn_model_s2_we_test_cl2_acc = accuracy_score(y_true=cnn_model_s2_we_test_cl2_y_true, y_pred=cnn_model_s2_we_test_cl2_y_pred_classes, normalize=True)\n",
    "\n",
    "# Macro F1\n",
    "cnn_model_s2_we_test_cl1_macroF1 = f1_score(y_true=cnn_model_s2_we_test_cl1_y_true, y_pred=cnn_model_s2_we_test_cl1_y_pred_classes, average='macro')\n",
    "cnn_model_s2_we_test_cl2_macroF1 = f1_score(y_true=cnn_model_s2_we_test_cl2_y_true, y_pred=cnn_model_s2_we_test_cl2_y_pred_classes, average='macro')\n",
    "\n",
    "print(\"=================================\\n\")\n",
    "print('S2 CNN NH Model CL1 Test')\n",
    "print(cnn_model_s2_we_test_cl1_cm)\n",
    "print(\"Test accuracy for S2 CNN NH model for CL1: \" + str(round(cnn_model_s2_we_test_cl1_acc, 3)))\n",
    "print(\"Test MacroF1 for S2 CNN NH model for CL1: \" + str(round(cnn_model_s2_we_test_cl1_macroF1, 3)))\n",
    "print(\"=================================\\n\")\n",
    "print('S2 CNN NH Model CL2 Test')\n",
    "print(cnn_model_s2_we_test_cl2_cm)\n",
    "print(\"Test accuracy for S2 CNN NH model for CL2: \" + str(round(cnn_model_s2_we_test_cl2_acc, 3)))\n",
    "print(\"Test MacroF1 for S2 CNN NH model for CL2: \" + str(round(cnn_model_s2_we_test_cl2_macroF1, 3)))"
   ]
  },
  {
   "cell_type": "code",
   "execution_count": 14,
   "id": "1e1a9882-7ec5-4e04-8c30-768f3cbd8c37",
   "metadata": {},
   "outputs": [
    {
     "name": "stdout",
     "output_type": "stream",
     "text": [
      "=================================\n",
      "\n",
      "S2 CNN NH Model CL1 Test\n"
     ]
    },
    {
     "data": {
      "text/html": [
       "<div>\n",
       "<style scoped>\n",
       "    .dataframe tbody tr th:only-of-type {\n",
       "        vertical-align: middle;\n",
       "    }\n",
       "\n",
       "    .dataframe tbody tr th {\n",
       "        vertical-align: top;\n",
       "    }\n",
       "\n",
       "    .dataframe thead th {\n",
       "        text-align: right;\n",
       "    }\n",
       "</style>\n",
       "<table border=\"1\" class=\"dataframe\">\n",
       "  <thead>\n",
       "    <tr style=\"text-align: right;\">\n",
       "      <th></th>\n",
       "      <th>Class</th>\n",
       "      <th>F1</th>\n",
       "    </tr>\n",
       "  </thead>\n",
       "  <tbody>\n",
       "    <tr>\n",
       "      <th>0</th>\n",
       "      <td>Other</td>\n",
       "      <td>0.795913</td>\n",
       "    </tr>\n",
       "    <tr>\n",
       "      <th>1</th>\n",
       "      <td>Maize</td>\n",
       "      <td>0.884443</td>\n",
       "    </tr>\n",
       "    <tr>\n",
       "      <th>2</th>\n",
       "      <td>Grasslands</td>\n",
       "      <td>0.911351</td>\n",
       "    </tr>\n",
       "  </tbody>\n",
       "</table>\n",
       "</div>"
      ],
      "text/plain": [
       "        Class        F1\n",
       "0       Other  0.795913\n",
       "1       Maize  0.884443\n",
       "2  Grasslands  0.911351"
      ]
     },
     "execution_count": 14,
     "metadata": {},
     "output_type": "execute_result"
    }
   ],
   "source": [
    "cnn_model_s2_we_test_cl1_clsF1 = f1_score(y_true=cnn_model_s2_we_test_cl1_y_true, y_pred=cnn_model_s2_we_test_cl1_y_pred_classes, average=None)\n",
    "\n",
    "cnn_s2_cl1_f1 = [list(cl1_names.values()), cnn_model_s2_we_test_cl1_clsF1.tolist()]\n",
    "cnn_s2_cl1_f1_df = pd.DataFrame(cnn_s2_cl1_f1)\n",
    "cnn_s2_cl1_f1_df = cnn_s2_cl1_f1_df.transpose()\n",
    " \n",
    "# specifying column names\n",
    "cnn_s2_cl1_f1_df.columns = ['Class', 'F1']\n",
    "\n",
    "print(\"=================================\\n\")\n",
    "print('S2 CNN NH Model CL1 Test')\n",
    "cnn_s2_cl1_f1_df\n"
   ]
  },
  {
   "cell_type": "code",
   "execution_count": 15,
   "id": "264c79b1-47d7-4991-8823-9184ccfb720d",
   "metadata": {},
   "outputs": [
    {
     "name": "stdout",
     "output_type": "stream",
     "text": [
      "=================================\n",
      "\n",
      "S2 CNN NH Model CL2 Test\n"
     ]
    },
    {
     "data": {
      "text/html": [
       "<div>\n",
       "<style scoped>\n",
       "    .dataframe tbody tr th:only-of-type {\n",
       "        vertical-align: middle;\n",
       "    }\n",
       "\n",
       "    .dataframe tbody tr th {\n",
       "        vertical-align: top;\n",
       "    }\n",
       "\n",
       "    .dataframe thead th {\n",
       "        text-align: right;\n",
       "    }\n",
       "</style>\n",
       "<table border=\"1\" class=\"dataframe\">\n",
       "  <thead>\n",
       "    <tr style=\"text-align: right;\">\n",
       "      <th></th>\n",
       "      <th>Class</th>\n",
       "      <th>F1</th>\n",
       "    </tr>\n",
       "  </thead>\n",
       "  <tbody>\n",
       "    <tr>\n",
       "      <th>0</th>\n",
       "      <td>Other</td>\n",
       "      <td>0.099438</td>\n",
       "    </tr>\n",
       "    <tr>\n",
       "      <th>1</th>\n",
       "      <td>Maize</td>\n",
       "      <td>0.896782</td>\n",
       "    </tr>\n",
       "    <tr>\n",
       "      <th>2</th>\n",
       "      <td>Grasslands</td>\n",
       "      <td>0.895608</td>\n",
       "    </tr>\n",
       "    <tr>\n",
       "      <th>3</th>\n",
       "      <td>Summer Crops</td>\n",
       "      <td>0.436656</td>\n",
       "    </tr>\n",
       "    <tr>\n",
       "      <th>4</th>\n",
       "      <td>Winter Crops</td>\n",
       "      <td>0.74223</td>\n",
       "    </tr>\n",
       "  </tbody>\n",
       "</table>\n",
       "</div>"
      ],
      "text/plain": [
       "          Class        F1\n",
       "0         Other  0.099438\n",
       "1         Maize  0.896782\n",
       "2    Grasslands  0.895608\n",
       "3  Summer Crops  0.436656\n",
       "4  Winter Crops   0.74223"
      ]
     },
     "execution_count": 15,
     "metadata": {},
     "output_type": "execute_result"
    }
   ],
   "source": [
    "cnn_model_s2_we_test_cl2_clsF1 = f1_score(y_true=cnn_model_s2_we_test_cl2_y_true, y_pred=cnn_model_s2_we_test_cl2_y_pred_classes, average=None)\n",
    "\n",
    "cnn_s2_cl2_f1 = [list(cl2_names.values()), cnn_model_s2_we_test_cl2_clsF1.tolist()]\n",
    "cnn_s2_cl2_f1_df = pd.DataFrame(cnn_s2_cl2_f1)\n",
    "cnn_s2_cl2_f1_df = cnn_s2_cl2_f1_df.transpose()\n",
    " \n",
    "# specifying column names\n",
    "cnn_s2_cl2_f1_df.columns = ['Class', 'F1']\n",
    "\n",
    "print(\"=================================\\n\")\n",
    "print('S2 CNN NH Model CL2 Test')\n",
    "cnn_s2_cl2_f1_df\n"
   ]
  },
  {
   "cell_type": "markdown",
   "id": "51e62ca4-4f88-44fd-88ca-4d1834f965de",
   "metadata": {},
   "source": [
    "### 5.2 RF Model Test"
   ]
  },
  {
   "cell_type": "code",
   "execution_count": 16,
   "id": "37239fec-5fd2-4b75-aaa8-5b6f08d0cd28",
   "metadata": {},
   "outputs": [
    {
     "name": "stderr",
     "output_type": "stream",
     "text": [
      "[Parallel(n_jobs=12)]: Using backend ThreadingBackend with 12 concurrent workers.\n",
      "[Parallel(n_jobs=12)]: Done  26 tasks      | elapsed:    1.1s\n",
      "[Parallel(n_jobs=12)]: Done 176 tasks      | elapsed:    6.2s\n",
      "[Parallel(n_jobs=12)]: Done 426 tasks      | elapsed:   14.7s\n",
      "[Parallel(n_jobs=12)]: Done 600 out of 600 | elapsed:   20.4s finished\n",
      "[Parallel(n_jobs=12)]: Using backend ThreadingBackend with 12 concurrent workers.\n",
      "[Parallel(n_jobs=12)]: Done  26 tasks      | elapsed:    1.4s\n",
      "[Parallel(n_jobs=12)]: Done 176 tasks      | elapsed:    7.4s\n",
      "[Parallel(n_jobs=12)]: Done 426 tasks      | elapsed:   17.5s\n",
      "[Parallel(n_jobs=12)]: Done 600 out of 600 | elapsed:   24.5s finished\n"
     ]
    },
    {
     "name": "stdout",
     "output_type": "stream",
     "text": [
      "=================================\n",
      "\n",
      "S2 RF NH Model CL1 Test\n",
      "[[321721  24211  53245]\n",
      " [ 41621 376857  23098]\n",
      " [ 17643   3066 683267]]\n",
      "Test accuracy for S2 RF NH model for CL1: 0.895\n",
      "Test MacroF1 for S2 RF NH model for CL1: 0.883\n",
      "=================================\n",
      "\n",
      "S2 RF NH Model CL2 Test\n",
      "[[  4767   2884   9803   2123    413]\n",
      " [ 15035 387570  27323  11194    454]\n",
      " [  9883   3625 687749   1976    743]\n",
      " [ 13135  23487  19840  43032   2952]\n",
      " [ 18820   3064  48596  16765 189496]]\n",
      "Test accuracy for S2 RF NH model for CL2: 0.85\n",
      "Test MacroF1 for S2 RF NH model for CL2: 0.645\n"
     ]
    }
   ],
   "source": [
    "# Check target system accuracy\n",
    "\n",
    "rf_model_s2_we_test_cl1_y_pred = rf_model_cl1.predict(s2_we_test_X_df)\n",
    "rf_model_s2_we_test_cl2_y_pred = rf_model_cl2.predict(s2_we_test_X_df)\n",
    "\n",
    "# Convert predictions classes to one hot vectors 9\n",
    "rf_model_s2_we_test_cl1_y_pred_classes = rf_model_s2_we_test_cl1_y_pred # np.argmax(rf_model_s2_we_test_cl1_y_pred, axis = 1) \n",
    "rf_model_s2_we_test_cl2_y_pred_classes = rf_model_s2_we_test_cl2_y_pred # np.argmax(rf_model_s2_we_test_cl2_y_pred, axis = 1)\n",
    "# Convert test data to one hot vectors\n",
    "rf_model_s2_we_test_cl1_y_true = s2_we_test_Y_np_cl1\n",
    "rf_model_s2_we_test_cl2_y_true = s2_we_test_Y_np_cl2\n",
    "\n",
    "# CM\n",
    "rf_model_s2_we_test_cl1_cm = confusion_matrix(rf_model_s2_we_test_cl1_y_true, rf_model_s2_we_test_cl1_y_pred_classes)\n",
    "rf_model_s2_we_test_cl2_cm = confusion_matrix(rf_model_s2_we_test_cl2_y_true, rf_model_s2_we_test_cl2_y_pred_classes)\n",
    "\n",
    "# Accuracy\n",
    "rf_model_s2_we_test_cl1_acc = accuracy_score(y_true=rf_model_s2_we_test_cl1_y_true, y_pred=rf_model_s2_we_test_cl1_y_pred_classes, normalize=True)\n",
    "rf_model_s2_we_test_cl2_acc = accuracy_score(y_true=rf_model_s2_we_test_cl2_y_true, y_pred=rf_model_s2_we_test_cl2_y_pred_classes, normalize=True)\n",
    "\n",
    "# Macro F1\n",
    "rf_model_s2_we_test_cl1_macroF1 = f1_score(y_true=rf_model_s2_we_test_cl1_y_true, y_pred=rf_model_s2_we_test_cl1_y_pred_classes, average='macro')\n",
    "rf_model_s2_we_test_cl2_macroF1 = f1_score(y_true=rf_model_s2_we_test_cl2_y_true, y_pred=rf_model_s2_we_test_cl2_y_pred_classes, average='macro')\n",
    "\n",
    "print(\"=================================\\n\")\n",
    "print('S2 RF NH Model CL1 Test')\n",
    "print(rf_model_s2_we_test_cl1_cm)\n",
    "print(\"Test accuracy for S2 RF NH model for CL1: \" + str(round(rf_model_s2_we_test_cl1_acc, 3)))\n",
    "print(\"Test MacroF1 for S2 RF NH model for CL1: \" + str(round(rf_model_s2_we_test_cl1_macroF1, 3)))\n",
    "print(\"=================================\\n\")\n",
    "print('S2 RF NH Model CL2 Test')\n",
    "print(rf_model_s2_we_test_cl2_cm)\n",
    "print(\"Test accuracy for S2 RF NH model for CL2: \" + str(round(rf_model_s2_we_test_cl2_acc, 3)))\n",
    "print(\"Test MacroF1 for S2 RF NH model for CL2: \" + str(round(rf_model_s2_we_test_cl2_macroF1, 3)))"
   ]
  },
  {
   "cell_type": "code",
   "execution_count": 17,
   "id": "b866280c-5ea6-4300-b537-6d27fa629699",
   "metadata": {},
   "outputs": [
    {
     "name": "stdout",
     "output_type": "stream",
     "text": [
      "=================================\n",
      "\n",
      "S2 RF NH Model CL1 Test\n"
     ]
    },
    {
     "data": {
      "text/html": [
       "<div>\n",
       "<style scoped>\n",
       "    .dataframe tbody tr th:only-of-type {\n",
       "        vertical-align: middle;\n",
       "    }\n",
       "\n",
       "    .dataframe tbody tr th {\n",
       "        vertical-align: top;\n",
       "    }\n",
       "\n",
       "    .dataframe thead th {\n",
       "        text-align: right;\n",
       "    }\n",
       "</style>\n",
       "<table border=\"1\" class=\"dataframe\">\n",
       "  <thead>\n",
       "    <tr style=\"text-align: right;\">\n",
       "      <th></th>\n",
       "      <th>Class</th>\n",
       "      <th>F1</th>\n",
       "    </tr>\n",
       "  </thead>\n",
       "  <tbody>\n",
       "    <tr>\n",
       "      <th>0</th>\n",
       "      <td>Other</td>\n",
       "      <td>0.824754</td>\n",
       "    </tr>\n",
       "    <tr>\n",
       "      <th>1</th>\n",
       "      <td>Maize</td>\n",
       "      <td>0.89122</td>\n",
       "    </tr>\n",
       "    <tr>\n",
       "      <th>2</th>\n",
       "      <td>Grasslands</td>\n",
       "      <td>0.933689</td>\n",
       "    </tr>\n",
       "  </tbody>\n",
       "</table>\n",
       "</div>"
      ],
      "text/plain": [
       "        Class        F1\n",
       "0       Other  0.824754\n",
       "1       Maize   0.89122\n",
       "2  Grasslands  0.933689"
      ]
     },
     "execution_count": 17,
     "metadata": {},
     "output_type": "execute_result"
    }
   ],
   "source": [
    "rf_model_s2_we_test_cl1_clsF1 = f1_score(y_true=rf_model_s2_we_test_cl1_y_true, y_pred=rf_model_s2_we_test_cl1_y_pred_classes, average=None)\n",
    "\n",
    "rf_s2_cl1_f1 = [list(cl1_names.values()), rf_model_s2_we_test_cl1_clsF1.tolist()]\n",
    "rf_s2_cl1_f1_df = pd.DataFrame(rf_s2_cl1_f1)\n",
    "rf_s2_cl1_f1_df = rf_s2_cl1_f1_df.transpose()\n",
    " \n",
    "# specifying column names\n",
    "rf_s2_cl1_f1_df.columns = ['Class', 'F1']\n",
    "\n",
    "print(\"=================================\\n\")\n",
    "print('S2 RF NH Model CL1 Test')\n",
    "rf_s2_cl1_f1_df\n"
   ]
  },
  {
   "cell_type": "code",
   "execution_count": 18,
   "id": "56e3eae3-7afc-4220-825d-9693ae86273d",
   "metadata": {},
   "outputs": [
    {
     "name": "stdout",
     "output_type": "stream",
     "text": [
      "=================================\n",
      "\n",
      "S2 RF NH Model CL2 Test\n"
     ]
    },
    {
     "data": {
      "text/html": [
       "<div>\n",
       "<style scoped>\n",
       "    .dataframe tbody tr th:only-of-type {\n",
       "        vertical-align: middle;\n",
       "    }\n",
       "\n",
       "    .dataframe tbody tr th {\n",
       "        vertical-align: top;\n",
       "    }\n",
       "\n",
       "    .dataframe thead th {\n",
       "        text-align: right;\n",
       "    }\n",
       "</style>\n",
       "<table border=\"1\" class=\"dataframe\">\n",
       "  <thead>\n",
       "    <tr style=\"text-align: right;\">\n",
       "      <th></th>\n",
       "      <th>Class</th>\n",
       "      <th>F1</th>\n",
       "    </tr>\n",
       "  </thead>\n",
       "  <tbody>\n",
       "    <tr>\n",
       "      <th>0</th>\n",
       "      <td>Other</td>\n",
       "      <td>0.116795</td>\n",
       "    </tr>\n",
       "    <tr>\n",
       "      <th>1</th>\n",
       "      <td>Maize</td>\n",
       "      <td>0.899019</td>\n",
       "    </tr>\n",
       "    <tr>\n",
       "      <th>2</th>\n",
       "      <td>Grasslands</td>\n",
       "      <td>0.91866</td>\n",
       "    </tr>\n",
       "    <tr>\n",
       "      <th>3</th>\n",
       "      <td>Summer Crops</td>\n",
       "      <td>0.484769</td>\n",
       "    </tr>\n",
       "    <tr>\n",
       "      <th>4</th>\n",
       "      <td>Winter Crops</td>\n",
       "      <td>0.804997</td>\n",
       "    </tr>\n",
       "  </tbody>\n",
       "</table>\n",
       "</div>"
      ],
      "text/plain": [
       "          Class        F1\n",
       "0         Other  0.116795\n",
       "1         Maize  0.899019\n",
       "2    Grasslands   0.91866\n",
       "3  Summer Crops  0.484769\n",
       "4  Winter Crops  0.804997"
      ]
     },
     "execution_count": 18,
     "metadata": {},
     "output_type": "execute_result"
    }
   ],
   "source": [
    "rf_model_s2_we_test_cl2_clsF1 = f1_score(y_true=rf_model_s2_we_test_cl2_y_true, y_pred=rf_model_s2_we_test_cl2_y_pred_classes, average=None)\n",
    "\n",
    "rf_s2_cl2_f1 = [list(cl2_names.values()), rf_model_s2_we_test_cl2_clsF1.tolist()]\n",
    "rf_s2_cl2_f1_df = pd.DataFrame(rf_s2_cl2_f1)\n",
    "rf_s2_cl2_f1_df = rf_s2_cl2_f1_df.transpose()\n",
    " \n",
    "# specifying column names\n",
    "rf_s2_cl2_f1_df.columns = ['Class', 'F1']\n",
    "\n",
    "print(\"=================================\\n\")\n",
    "print('S2 RF NH Model CL2 Test')\n",
    "rf_s2_cl2_f1_df\n"
   ]
  },
  {
   "cell_type": "markdown",
   "id": "4ef90220-e452-41b7-a2cd-9a4e953122f0",
   "metadata": {},
   "source": [
    "## 6.0 Get model outputs"
   ]
  },
  {
   "cell_type": "code",
   "execution_count": 19,
   "id": "078d51bd-cb5e-41fb-83d8-5b3c6268ba0a",
   "metadata": {},
   "outputs": [],
   "source": [
    "s2_base = s2_we_test_df.iloc[:, [0, 1, 2]]"
   ]
  },
  {
   "cell_type": "markdown",
   "id": "a250b310-b9f3-4049-8bef-8d9c62f941e9",
   "metadata": {},
   "source": [
    "### 6.1 CNN"
   ]
  },
  {
   "cell_type": "code",
   "execution_count": 20,
   "id": "67d33a13-c347-4c4a-bc19-c6e70ded9317",
   "metadata": {},
   "outputs": [
    {
     "data": {
      "text/html": [
       "<div>\n",
       "<style scoped>\n",
       "    .dataframe tbody tr th:only-of-type {\n",
       "        vertical-align: middle;\n",
       "    }\n",
       "\n",
       "    .dataframe tbody tr th {\n",
       "        vertical-align: top;\n",
       "    }\n",
       "\n",
       "    .dataframe thead th {\n",
       "        text-align: right;\n",
       "    }\n",
       "</style>\n",
       "<table border=\"1\" class=\"dataframe\">\n",
       "  <thead>\n",
       "    <tr style=\"text-align: right;\">\n",
       "      <th></th>\n",
       "      <th>p_id</th>\n",
       "      <th>year</th>\n",
       "      <th>CAT</th>\n",
       "      <th>cl1_true</th>\n",
       "      <th>cl1_pred</th>\n",
       "      <th>cl2_true</th>\n",
       "      <th>cl2_pred</th>\n",
       "    </tr>\n",
       "  </thead>\n",
       "  <tbody>\n",
       "    <tr>\n",
       "      <th>599440</th>\n",
       "      <td>2013_000001</td>\n",
       "      <td>2013</td>\n",
       "      <td>MZ</td>\n",
       "      <td>1</td>\n",
       "      <td>0</td>\n",
       "      <td>1</td>\n",
       "      <td>1</td>\n",
       "    </tr>\n",
       "    <tr>\n",
       "      <th>599441</th>\n",
       "      <td>2013_000002</td>\n",
       "      <td>2013</td>\n",
       "      <td>PG</td>\n",
       "      <td>2</td>\n",
       "      <td>2</td>\n",
       "      <td>2</td>\n",
       "      <td>2</td>\n",
       "    </tr>\n",
       "    <tr>\n",
       "      <th>599442</th>\n",
       "      <td>2013_000003</td>\n",
       "      <td>2013</td>\n",
       "      <td>WC</td>\n",
       "      <td>0</td>\n",
       "      <td>0</td>\n",
       "      <td>4</td>\n",
       "      <td>0</td>\n",
       "    </tr>\n",
       "    <tr>\n",
       "      <th>599443</th>\n",
       "      <td>2013_000004</td>\n",
       "      <td>2013</td>\n",
       "      <td>MZ</td>\n",
       "      <td>1</td>\n",
       "      <td>1</td>\n",
       "      <td>1</td>\n",
       "      <td>1</td>\n",
       "    </tr>\n",
       "    <tr>\n",
       "      <th>599444</th>\n",
       "      <td>2013_000005</td>\n",
       "      <td>2013</td>\n",
       "      <td>MZ</td>\n",
       "      <td>1</td>\n",
       "      <td>1</td>\n",
       "      <td>1</td>\n",
       "      <td>1</td>\n",
       "    </tr>\n",
       "    <tr>\n",
       "      <th>...</th>\n",
       "      <td>...</td>\n",
       "      <td>...</td>\n",
       "      <td>...</td>\n",
       "      <td>...</td>\n",
       "      <td>...</td>\n",
       "      <td>...</td>\n",
       "      <td>...</td>\n",
       "    </tr>\n",
       "    <tr>\n",
       "      <th>2145046</th>\n",
       "      <td>2018_266054</td>\n",
       "      <td>2018</td>\n",
       "      <td>PG</td>\n",
       "      <td>2</td>\n",
       "      <td>2</td>\n",
       "      <td>2</td>\n",
       "      <td>2</td>\n",
       "    </tr>\n",
       "    <tr>\n",
       "      <th>2145047</th>\n",
       "      <td>2018_266055</td>\n",
       "      <td>2018</td>\n",
       "      <td>MZ</td>\n",
       "      <td>1</td>\n",
       "      <td>0</td>\n",
       "      <td>1</td>\n",
       "      <td>1</td>\n",
       "    </tr>\n",
       "    <tr>\n",
       "      <th>2145048</th>\n",
       "      <td>2018_266056</td>\n",
       "      <td>2018</td>\n",
       "      <td>MZ</td>\n",
       "      <td>1</td>\n",
       "      <td>0</td>\n",
       "      <td>1</td>\n",
       "      <td>1</td>\n",
       "    </tr>\n",
       "    <tr>\n",
       "      <th>2145049</th>\n",
       "      <td>2018_266057</td>\n",
       "      <td>2018</td>\n",
       "      <td>PG</td>\n",
       "      <td>2</td>\n",
       "      <td>2</td>\n",
       "      <td>2</td>\n",
       "      <td>2</td>\n",
       "    </tr>\n",
       "    <tr>\n",
       "      <th>2145050</th>\n",
       "      <td>2018_266058</td>\n",
       "      <td>2018</td>\n",
       "      <td>PG</td>\n",
       "      <td>2</td>\n",
       "      <td>2</td>\n",
       "      <td>2</td>\n",
       "      <td>2</td>\n",
       "    </tr>\n",
       "  </tbody>\n",
       "</table>\n",
       "<p>1544729 rows × 7 columns</p>\n",
       "</div>"
      ],
      "text/plain": [
       "                p_id  year CAT  cl1_true  cl1_pred  cl2_true  cl2_pred\n",
       "599440   2013_000001  2013  MZ         1         0         1         1\n",
       "599441   2013_000002  2013  PG         2         2         2         2\n",
       "599442   2013_000003  2013  WC         0         0         4         0\n",
       "599443   2013_000004  2013  MZ         1         1         1         1\n",
       "599444   2013_000005  2013  MZ         1         1         1         1\n",
       "...              ...   ...  ..       ...       ...       ...       ...\n",
       "2145046  2018_266054  2018  PG         2         2         2         2\n",
       "2145047  2018_266055  2018  MZ         1         0         1         1\n",
       "2145048  2018_266056  2018  MZ         1         0         1         1\n",
       "2145049  2018_266057  2018  PG         2         2         2         2\n",
       "2145050  2018_266058  2018  PG         2         2         2         2\n",
       "\n",
       "[1544729 rows x 7 columns]"
      ]
     },
     "execution_count": 20,
     "metadata": {},
     "output_type": "execute_result"
    }
   ],
   "source": [
    "s2_cnn_out_df = s2_base.copy()\n",
    "\n",
    "s2_cnn_out_df['cl1_true'] = (np.array(cnn_model_s2_we_test_cl1_y_true, int)).tolist()\n",
    "\n",
    "s2_cnn_out_df['cl1_pred'] = cnn_model_s2_we_test_cl1_y_pred_classes.tolist()\n",
    "\n",
    "s2_cnn_out_df['cl2_true'] = (np.array(cnn_model_s2_we_test_cl2_y_true, int)).tolist()\n",
    "\n",
    "s2_cnn_out_df['cl2_pred'] = cnn_model_s2_we_test_cl2_y_pred_classes.tolist()\n",
    "\n",
    "# s2_cnn_out_df['DI'] = DI.tolist()\n",
    "\n",
    "# s2_cnn_out_df['AOA'] = Masked.tolist()\n",
    "\n",
    "s2_cnn_out_df"
   ]
  },
  {
   "cell_type": "code",
   "execution_count": 21,
   "id": "24a9fef5-c452-4105-a7f3-df48c2f815bd",
   "metadata": {},
   "outputs": [],
   "source": [
    "s2_cnn_out_df.to_csv('./Out/CNN_Models/s2_cnn_out.csv')"
   ]
  },
  {
   "cell_type": "markdown",
   "id": "8a9f5bfd-38a0-456f-9fdf-841c58984cd9",
   "metadata": {},
   "source": [
    "### 6.2 RF"
   ]
  },
  {
   "cell_type": "code",
   "execution_count": 22,
   "id": "92f63961-1174-4410-9972-c756d7af5a09",
   "metadata": {},
   "outputs": [
    {
     "data": {
      "text/html": [
       "<div>\n",
       "<style scoped>\n",
       "    .dataframe tbody tr th:only-of-type {\n",
       "        vertical-align: middle;\n",
       "    }\n",
       "\n",
       "    .dataframe tbody tr th {\n",
       "        vertical-align: top;\n",
       "    }\n",
       "\n",
       "    .dataframe thead th {\n",
       "        text-align: right;\n",
       "    }\n",
       "</style>\n",
       "<table border=\"1\" class=\"dataframe\">\n",
       "  <thead>\n",
       "    <tr style=\"text-align: right;\">\n",
       "      <th></th>\n",
       "      <th>p_id</th>\n",
       "      <th>year</th>\n",
       "      <th>CAT</th>\n",
       "      <th>cl1_true</th>\n",
       "      <th>cl1_pred</th>\n",
       "      <th>cl2_true</th>\n",
       "      <th>cl2_pred</th>\n",
       "    </tr>\n",
       "  </thead>\n",
       "  <tbody>\n",
       "    <tr>\n",
       "      <th>599440</th>\n",
       "      <td>2013_000001</td>\n",
       "      <td>2013</td>\n",
       "      <td>MZ</td>\n",
       "      <td>1</td>\n",
       "      <td>1.0</td>\n",
       "      <td>1</td>\n",
       "      <td>1.0</td>\n",
       "    </tr>\n",
       "    <tr>\n",
       "      <th>599441</th>\n",
       "      <td>2013_000002</td>\n",
       "      <td>2013</td>\n",
       "      <td>PG</td>\n",
       "      <td>2</td>\n",
       "      <td>2.0</td>\n",
       "      <td>2</td>\n",
       "      <td>2.0</td>\n",
       "    </tr>\n",
       "    <tr>\n",
       "      <th>599442</th>\n",
       "      <td>2013_000003</td>\n",
       "      <td>2013</td>\n",
       "      <td>WC</td>\n",
       "      <td>0</td>\n",
       "      <td>2.0</td>\n",
       "      <td>4</td>\n",
       "      <td>2.0</td>\n",
       "    </tr>\n",
       "    <tr>\n",
       "      <th>599443</th>\n",
       "      <td>2013_000004</td>\n",
       "      <td>2013</td>\n",
       "      <td>MZ</td>\n",
       "      <td>1</td>\n",
       "      <td>1.0</td>\n",
       "      <td>1</td>\n",
       "      <td>1.0</td>\n",
       "    </tr>\n",
       "    <tr>\n",
       "      <th>599444</th>\n",
       "      <td>2013_000005</td>\n",
       "      <td>2013</td>\n",
       "      <td>MZ</td>\n",
       "      <td>1</td>\n",
       "      <td>1.0</td>\n",
       "      <td>1</td>\n",
       "      <td>1.0</td>\n",
       "    </tr>\n",
       "    <tr>\n",
       "      <th>...</th>\n",
       "      <td>...</td>\n",
       "      <td>...</td>\n",
       "      <td>...</td>\n",
       "      <td>...</td>\n",
       "      <td>...</td>\n",
       "      <td>...</td>\n",
       "      <td>...</td>\n",
       "    </tr>\n",
       "    <tr>\n",
       "      <th>2145046</th>\n",
       "      <td>2018_266054</td>\n",
       "      <td>2018</td>\n",
       "      <td>PG</td>\n",
       "      <td>2</td>\n",
       "      <td>2.0</td>\n",
       "      <td>2</td>\n",
       "      <td>2.0</td>\n",
       "    </tr>\n",
       "    <tr>\n",
       "      <th>2145047</th>\n",
       "      <td>2018_266055</td>\n",
       "      <td>2018</td>\n",
       "      <td>MZ</td>\n",
       "      <td>1</td>\n",
       "      <td>1.0</td>\n",
       "      <td>1</td>\n",
       "      <td>1.0</td>\n",
       "    </tr>\n",
       "    <tr>\n",
       "      <th>2145048</th>\n",
       "      <td>2018_266056</td>\n",
       "      <td>2018</td>\n",
       "      <td>MZ</td>\n",
       "      <td>1</td>\n",
       "      <td>1.0</td>\n",
       "      <td>1</td>\n",
       "      <td>1.0</td>\n",
       "    </tr>\n",
       "    <tr>\n",
       "      <th>2145049</th>\n",
       "      <td>2018_266057</td>\n",
       "      <td>2018</td>\n",
       "      <td>PG</td>\n",
       "      <td>2</td>\n",
       "      <td>2.0</td>\n",
       "      <td>2</td>\n",
       "      <td>2.0</td>\n",
       "    </tr>\n",
       "    <tr>\n",
       "      <th>2145050</th>\n",
       "      <td>2018_266058</td>\n",
       "      <td>2018</td>\n",
       "      <td>PG</td>\n",
       "      <td>2</td>\n",
       "      <td>2.0</td>\n",
       "      <td>2</td>\n",
       "      <td>2.0</td>\n",
       "    </tr>\n",
       "  </tbody>\n",
       "</table>\n",
       "<p>1544729 rows × 7 columns</p>\n",
       "</div>"
      ],
      "text/plain": [
       "                p_id  year CAT  cl1_true  cl1_pred  cl2_true  cl2_pred\n",
       "599440   2013_000001  2013  MZ         1       1.0         1       1.0\n",
       "599441   2013_000002  2013  PG         2       2.0         2       2.0\n",
       "599442   2013_000003  2013  WC         0       2.0         4       2.0\n",
       "599443   2013_000004  2013  MZ         1       1.0         1       1.0\n",
       "599444   2013_000005  2013  MZ         1       1.0         1       1.0\n",
       "...              ...   ...  ..       ...       ...       ...       ...\n",
       "2145046  2018_266054  2018  PG         2       2.0         2       2.0\n",
       "2145047  2018_266055  2018  MZ         1       1.0         1       1.0\n",
       "2145048  2018_266056  2018  MZ         1       1.0         1       1.0\n",
       "2145049  2018_266057  2018  PG         2       2.0         2       2.0\n",
       "2145050  2018_266058  2018  PG         2       2.0         2       2.0\n",
       "\n",
       "[1544729 rows x 7 columns]"
      ]
     },
     "execution_count": 22,
     "metadata": {},
     "output_type": "execute_result"
    }
   ],
   "source": [
    "s2_rf_out_df = s2_base.copy()\n",
    "\n",
    "s2_rf_out_df['cl1_true'] = (np.array(rf_model_s2_we_test_cl1_y_true, int)).tolist()\n",
    "\n",
    "s2_rf_out_df['cl1_pred'] = rf_model_s2_we_test_cl1_y_pred_classes.tolist()\n",
    "\n",
    "s2_rf_out_df['cl2_true'] = (np.array(rf_model_s2_we_test_cl2_y_true, int)).tolist()\n",
    "\n",
    "s2_rf_out_df['cl2_pred'] = rf_model_s2_we_test_cl2_y_pred_classes.tolist()\n",
    "\n",
    "# s2_rf_out_df['DI'] = DI.tolist()\n",
    "\n",
    "# s2_rf_out_df['AOA'] = Masked.tolist()\n",
    "\n",
    "s2_rf_out_df"
   ]
  },
  {
   "cell_type": "code",
   "execution_count": 23,
   "id": "6f516eb0-f8c9-4960-8670-2bb94ec8a7ac",
   "metadata": {},
   "outputs": [],
   "source": [
    "s2_rf_out_df.to_csv('./Out/RF_Models/s2_rf_out.csv')"
   ]
  }
 ],
 "metadata": {
  "kernelspec": {
   "display_name": "Python 3 (ipykernel)",
   "language": "python",
   "name": "python3"
  },
  "language_info": {
   "codemirror_mode": {
    "name": "ipython",
    "version": 3
   },
   "file_extension": ".py",
   "mimetype": "text/x-python",
   "name": "python",
   "nbconvert_exporter": "python",
   "pygments_lexer": "ipython3",
   "version": "3.8.10"
  }
 },
 "nbformat": 4,
 "nbformat_minor": 5
}
